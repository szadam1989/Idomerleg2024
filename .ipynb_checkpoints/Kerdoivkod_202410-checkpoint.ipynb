{
 "cells": [
  {
   "cell_type": "code",
   "execution_count": 5,
   "id": "88b57175-8fda-48f1-bda5-edf95cc6300d",
   "metadata": {},
   "outputs": [],
   "source": [
    "import pandas as pd\n",
    "import os\n",
    "import oracledb\n",
    "import getpass\n",
    "import numpy as np"
   ]
  },
  {
   "cell_type": "code",
   "execution_count": 4,
   "id": "ae0d35e0-97b6-4294-94ac-2ddb0eabcb2b",
   "metadata": {},
   "outputs": [
    {
     "name": "stdout",
     "output_type": "stream",
     "text": [
      "Collecting oracledb\n",
      "  Downloading oracledb-3.1.0-cp312-cp312-win_amd64.whl.metadata (5.6 kB)\n",
      "Collecting cryptography>=3.2.1 (from oracledb)\n",
      "  Using cached cryptography-44.0.2-cp39-abi3-win_amd64.whl.metadata (5.7 kB)\n",
      "Requirement already satisfied: cffi>=1.12 in c:\\users\\vl05953\\appdata\\local\\programs\\python\\python312\\lib\\site-packages (from cryptography>=3.2.1->oracledb) (1.17.1)\n",
      "Requirement already satisfied: pycparser in c:\\users\\vl05953\\appdata\\local\\programs\\python\\python312\\lib\\site-packages (from cffi>=1.12->cryptography>=3.2.1->oracledb) (2.22)\n",
      "Downloading oracledb-3.1.0-cp312-cp312-win_amd64.whl (2.1 MB)\n",
      "   ---------------------------------------- 0.0/2.1 MB ? eta -:--:--\n",
      "   ---------------------------------------- 2.1/2.1 MB 10.6 MB/s eta 0:00:00\n",
      "Using cached cryptography-44.0.2-cp39-abi3-win_amd64.whl (3.2 MB)\n",
      "Installing collected packages: cryptography, oracledb\n",
      "Successfully installed cryptography-44.0.2 oracledb-3.1.0\n",
      "Note: you may need to restart the kernel to use updated packages.\n"
     ]
    }
   ],
   "source": [
    "pip install --proxy proxy.ksh.hu:8080 oracledb"
   ]
  },
  {
   "cell_type": "code",
   "execution_count": 2,
   "id": "280c2dac-93b8-41f3-86e6-7d6661060e27",
   "metadata": {},
   "outputs": [
    {
     "name": "stdout",
     "output_type": "stream",
     "text": [
      "Collecting pandas\n",
      "  Downloading pandas-2.2.3-cp312-cp312-win_amd64.whl.metadata (19 kB)\n",
      "Requirement already satisfied: numpy>=1.26.0 in c:\\users\\vl05953\\appdata\\local\\programs\\python\\python312\\lib\\site-packages (from pandas) (2.2.4)\n",
      "Requirement already satisfied: python-dateutil>=2.8.2 in c:\\users\\vl05953\\appdata\\local\\programs\\python\\python312\\lib\\site-packages (from pandas) (2.9.0.post0)\n",
      "Collecting pytz>=2020.1 (from pandas)\n",
      "  Using cached pytz-2025.2-py2.py3-none-any.whl.metadata (22 kB)\n",
      "Collecting tzdata>=2022.7 (from pandas)\n",
      "  Using cached tzdata-2025.2-py2.py3-none-any.whl.metadata (1.4 kB)\n",
      "Requirement already satisfied: six>=1.5 in c:\\users\\vl05953\\appdata\\local\\programs\\python\\python312\\lib\\site-packages (from python-dateutil>=2.8.2->pandas) (1.17.0)\n",
      "Downloading pandas-2.2.3-cp312-cp312-win_amd64.whl (11.5 MB)\n",
      "   ---------------------------------------- 0.0/11.5 MB ? eta -:--:--\n",
      "   ------- -------------------------------- 2.1/11.5 MB 11.7 MB/s eta 0:00:01\n",
      "   ---------------- ----------------------- 4.7/11.5 MB 11.4 MB/s eta 0:00:01\n",
      "   ------------------------ --------------- 7.1/11.5 MB 11.8 MB/s eta 0:00:01\n",
      "   --------------------------------- ------ 9.7/11.5 MB 11.8 MB/s eta 0:00:01\n",
      "   ---------------------------------------- 11.5/11.5 MB 11.2 MB/s eta 0:00:00\n",
      "Using cached pytz-2025.2-py2.py3-none-any.whl (509 kB)\n",
      "Using cached tzdata-2025.2-py2.py3-none-any.whl (347 kB)\n",
      "Installing collected packages: pytz, tzdata, pandas\n",
      "Successfully installed pandas-2.2.3 pytz-2025.2 tzdata-2025.2\n",
      "Note: you may need to restart the kernel to use updated packages.\n"
     ]
    }
   ],
   "source": [
    "pip install --proxy proxy.ksh.hu:8080 pandas"
   ]
  },
  {
   "cell_type": "code",
   "execution_count": 6,
   "id": "acd31485-780b-490d-8a48-3ece8e721823",
   "metadata": {},
   "outputs": [],
   "source": [
    "def makeInsert(number):\n",
    "    valuesText = \"\"\n",
    "    for row in range(number):\n",
    "        valuesText = valuesText + \":\" + str(row + 1) + \",\"\n",
    "\n",
    "    valuesText = valuesText[:-1]\n",
    "\n",
    "    return valuesText"
   ]
  },
  {
   "cell_type": "code",
   "execution_count": 7,
   "id": "12dbc0b7-49cc-482d-b454-e69be0ff9e46",
   "metadata": {},
   "outputs": [
    {
     "name": "stdin",
     "output_type": "stream",
     "text": [
      "Kérlek, add meg a(z) vl05953 felhasználói nevedhez tartozó jelszót:  ········\n"
     ]
    }
   ],
   "source": [
    "pd.options.mode.chained_assignment = None\n",
    "\n",
    "username = getpass.getuser()\n",
    "password = getpass.getpass(f\"Kérlek, add meg a(z) {username} felhasználói nevedhez tartozó jelszót: \")"
   ]
  },
  {
   "cell_type": "code",
   "execution_count": 8,
   "id": "664598ee-9c04-49ac-8fdf-edc78dd557d0",
   "metadata": {},
   "outputs": [],
   "source": [
    "database = oracledb.makedsn(host = \"emerald.ksh.hu\", port = \"1521\", service_name = \"emerald.ksh.hu\")\n",
    "conn = oracledb.connect(user = username, password = password, dsn = database)\n",
    "cur = conn.cursor()"
   ]
  },
  {
   "cell_type": "code",
   "execution_count": 11,
   "id": "748fffcf-21cc-4822-9cd4-cc63839f8588",
   "metadata": {},
   "outputs": [
    {
     "name": "stderr",
     "output_type": "stream",
     "text": [
      "<>:1: SyntaxWarning: invalid escape sequence '\\E'\n",
      "<>:1: SyntaxWarning: invalid escape sequence '\\E'\n",
      "C:\\Users\\vl05953\\AppData\\Local\\Temp\\ipykernel_13224\\1884545938.py:1: SyntaxWarning: invalid escape sequence '\\E'\n",
      "  idomerleg_3nev = pd.read_excel(io = os.path.abspath(os.getcwd() + \"\\Excel_Files\\YS_1711_KERDOIVKOD_V2410_V00.xlsx\"), sheet_name = \"Munka1\", header = 0, dtype = str)\n"
     ]
    },
    {
     "name": "stdout",
     "output_type": "stream",
     "text": [
      "Az Időmérleg adatgyűjtés második negyedévi adatait tartalmazó adatkeret sor- és oszlopszámai : (3796, 249)\n"
     ]
    }
   ],
   "source": [
    "idomerleg_3nev = pd.read_excel(io = os.path.abspath(os.getcwd() + \"\\Excel_Files\\YS_1711_KERDOIVKOD_V2410_V00.xlsx\"), sheet_name = \"Munka1\", header = 0, dtype = str)\n",
    "print(f\"Az Időmérleg adatgyűjtés második negyedévi adatait tartalmazó adatkeret sor- és oszlopszámai : {idomerleg_3nev.shape}\")"
   ]
  },
  {
   "cell_type": "code",
   "execution_count": 10,
   "id": "aa27b68a-f60a-4241-9ebd-9ec1b222785e",
   "metadata": {},
   "outputs": [
    {
     "name": "stdout",
     "output_type": "stream",
     "text": [
      "Collecting openpyxl\n",
      "  Using cached openpyxl-3.1.5-py2.py3-none-any.whl.metadata (2.5 kB)\n",
      "Collecting et-xmlfile (from openpyxl)\n",
      "  Using cached et_xmlfile-2.0.0-py3-none-any.whl.metadata (2.7 kB)\n",
      "Using cached openpyxl-3.1.5-py2.py3-none-any.whl (250 kB)\n",
      "Using cached et_xmlfile-2.0.0-py3-none-any.whl (18 kB)\n",
      "Installing collected packages: et-xmlfile, openpyxl\n",
      "Successfully installed et-xmlfile-2.0.0 openpyxl-3.1.5\n",
      "Note: you may need to restart the kernel to use updated packages.\n"
     ]
    }
   ],
   "source": [
    "pip install --proxy proxy.ksh.hu:8080 openpyxl"
   ]
  },
  {
   "cell_type": "code",
   "execution_count": 12,
   "id": "ed699f7f-000c-4f0d-a7ee-f708d3431e4f",
   "metadata": {},
   "outputs": [],
   "source": [
    "pd.set_option('display.precision', 0)\n",
    "idomerleg_3nev = idomerleg_3nev.replace({pd.NaT: None}).replace({\"NaT\": None}).replace({np.nan: None})"
   ]
  },
  {
   "cell_type": "code",
   "execution_count": 13,
   "id": "0a225ad7-1424-4a2a-a73e-0d68aa0f29e6",
   "metadata": {},
   "outputs": [],
   "source": [
    "values = makeInsert(246)\n",
    "\n",
    "outputName = \"FI.YS_1711_KERDOIVKOD_V2410_V00\"\n",
    "#attributesForInsert = list(idomerleg_3nev)\n",
    "attributesForInsert = \"\"\"KODOL_SZAM, TEV, ISZAK, OSAP_REG, LAKAZON, HSOR, FIBD001, FIBD002, FIBD003, \n",
    "FIBD004, FIBD026, FIBD027, FIBD028, OSAP_SZEMGYERHAZT, FIBB001, FIBB002, FIBB003, FIBB004, FIBB005, FIBB006, \n",
    "FIBB007, FIBB008, FIBB009, FIBB010, FIBB011, FIBB012, FIBB013, FIBB014, FIBB015, FIBB016, FIBB017, FIBB018, \n",
    "FIBB023, FIBB101, FIBB102, FIBB103, FIBB104, FIBB105, FIBB106, FIBB107, FIBB107SZOV, FIBB108, FIBB109, \n",
    "FIBB109SZOV, FOGLALKKOD, IND5, FOGLALKNEV, FEOR1, FEOR2, FEOR3, TELSZOVKOD, TELSZOVNEV, TEAOR1, TEAOR2, TEAOR3, \n",
    "FIBB111, FIBB112, FIBB117, FIBB119, FIBB120, FIBB121, FIBB123, FIBB124, FIBB128, FIBB129, FIBB201, FIBB202, \n",
    "FIBB203, FIBB204, FIBB205, FIBB206, FIBB207, FIBB208, FIBB209, FIBB210, FIBB211, ISZAKV, FIBB212, FIBB213, \n",
    "FIBB214, FIBB215, FIBB226, FIBB227, FIBB228, FIBB231, FIBB239, FIBB240, FIBB249, FIBB251, FIBB413, FIBB601, \n",
    "FIBB603, FIBB605, FIBB607, FIBB711, FIBB712, FIBB713, FIBB714, FIBB024, FIBB025, FIBB026, FIBB027, FIBB034, \n",
    "FIBB035, FIBB036, FIBB037, FIBB038, FIBB039, FIBB261, FIBB725, FIBB726, FIBB727, FIBB728, FIBD101, FIBD102, \n",
    "FIBD103, FIBD107, FIBA001, FIBA002, FIBA006, FIBA007, FIBA008, FIBA009, FIBA101_0, FIBA102_0, FIBA103_0, \n",
    "FIBA104_0, FIBA105_0, FIBA106_0, FIBA101_1, FIBA102_1, FIBA103_1, FIBA104_1, FIBA105_1, FIBA106_1, FIBA101_2, \n",
    "FIBA102_2, FIBA103_2, FIBA104_2, FIBA105_2, FIBA106_2, FIBA101_3, FIBA102_3, FIBA103_3, FIBA104_3, FIBA105_3, \n",
    "FIBA106_3, FIBA101_4, FIBA102_4, FIBA103_4, FIBA104_4, FIBA105_4, FIBA106_4, FIBA101_5, FIBA102_5, FIBA103_5, \n",
    "FIBA104_5, FIBA105_5, FIBA106_5, FIBA101_6, FIBA102_6, FIBA103_6, FIBA104_6, FIBA105_6, FIBA106_6, FIBA101_7, \n",
    "FIBA102_7, FIBA103_7, FIBA104_7, FIBA105_7, FIBA106_7, FIBA101_8, FIBA102_8, FIBA103_8, FIBA104_8, FIBA105_8, \n",
    "FIBA106_8, FIBA101_9, FIBA102_9, FIBA103_9, FIBA104_9, FIBA105_9, FIBA106_9, FIBA101_10, FIBA102_10, FIBA103_10, \n",
    "FIBA104_10, FIBA105_10, FIBA106_10, FIBA101_11, FIBA102_11, FIBA103_11, FIBA104_11, FIBA105_11, FIBA106_11, \n",
    "FIBA101_12, FIBA102_12, FIBA103_12, FIBA104_12, FIBA105_12, FIBA106_12, FI09_1, FIBA401_1, FIBA402_1, FIBA403_1, \n",
    "FI09_2, FIBA401_2, FIBA402_2, FIBA403_2, FI09_3, FIBA401_3, FIBA402_3, FIBA403_3, FI09_4, FIBA401_4, FIBA402_4, \n",
    "FIBA403_4, FI09_5, FIBA401_5, FIBA402_5, FIBA403_5, FI09_6, FIBA401_6, FIBA402_6, FIBA403_6, FI09_7, FIBA401_7, \n",
    "FIBA402_7, FIBA403_7, FI09_8, FIBA401_8, FIBA402_8, FIBA403_8, FI09_9, FIBA401_9, FIBA402_9, FIBA403_9, FIBC201, \n",
    "ISZAKV_VK, FOGLALKKOD_1NE, FOGLALKKOD_2NE, FOGLALKKOD_3NE, FOGLALKNEV_1NE, FOGLALKNEV_2NE, FOGLALKNEV_3NE, \n",
    "FIBC220\"\"\" "
   ]
  },
  {
   "cell_type": "code",
   "execution_count": 13,
   "id": "396934fc-29f4-46b4-842b-413f35ab95d5",
   "metadata": {},
   "outputs": [],
   "source": [
    "output_insert_sql = \"INSERT INTO \" + outputName + \"(\" + attributesForInsert + \") VALUES(\" + values + \")\"\n",
    "cur.executemany(output_insert_sql, idomerleg_3nev[[\"KODOL_SZAM\", \"TEV\", \"ISZAK\", \"OSAP_REG\", \"LAKAZON\", \"HSOR\", \"FIBD001\", \"FIBD002\", \"FIBD003\", \n",
    "\"FIBD004\", \"FIBD026\", \"FIBD027\", \"FIBD028\", \"OSAP_SZEMGYERHAZT\", \"FIBB001\", \"FIBB002\", \"FIBB003\", \"FIBB004\", \"FIBB005\", \"FIBB006\",\n",
    "\"FIBB007\", \"FIBB008\", \"FIBB009\", \"FIBB010\", \"FIBB011\", \"FIBB012\", \"FIBB013\", \"FIBB014\", \"FIBB015\", \"FIBB016\", \"FIBB017\", \"FIBB018\",\n",
    "\"FIBB023\", \"FIBB101\", \"FIBB102\", \"FIBB103\", \"FIBB104\", \"FIBB105\", \"FIBB106\", \"FIBB107\", \"FIBB107SZOV\", \"FIBB108\", \"FIBB109\",\n",
    "\"FIBB109SZOV\", \"FOGLALKKOD\", \"IND5\", \"FOGLALKNEV\", \"FEOR1\", \"FEOR2\", \"FEOR3\", \"TELSZOVKOD\", \"TELSZOVNEV\", \"TEAOR1\", \"TEAOR2\", \"TEAOR3\",\n",
    "\"FIBB111\", \"FIBB112\", \"FIBB117\", \"FIBB119\", \"FIBB120\", \"FIBB121\", \"FIBB123\", \"FIBB124\", \"FIBB128\", \"FIBB129\", \"FIBB201\", \"FIBB202\",\n",
    "\"FIBB203\", \"FIBB204\", \"FIBB205\", \"FIBB206\", \"FIBB207\", \"FIBB208\", \"FIBB209\", \"FIBB210\", \"FIBB211\", \"ISZAKV\", \"FIBB212\", \"FIBB213\", \n",
    "\"FIBB214\", \"FIBB215\", \"FIBB226\", \"FIBB227\", \"FIBB228\", \"FIBB231\", \"FIBB239\", \"FIBB240\", \"FIBB249\", \"FIBB251\", \"FIBB413\", \"FIBB601\",\n",
    "\"FIBB603\", \"FIBB605\", \"FIBB607\", \"FIBB711\", \"FIBB712\", \"FIBB713\", \"FIBB714\", \"FIBB024\", \"FIBB025\", \"FIBB026\", \"FIBB027\", \"FIBB034\",\n",
    "\"FIBB035\", \"FIBB036\", \"FIBB037\", \"FIBB038\", \"FIBB039\", \"FIBB261\", \"FIBB725\", \"FIBB726\", \"FIBB727\", \"FIBB728\", \"FIBD101\", \"FIBD102\",\n",
    "\"FIBD103\", \"FIBD107\", \"FIBA001\", \"FIBA002\", \"FIBA006\", \"FIBA007\", \"FIBA008\", \"FIBA009\", \"FIBA101_0\", \"FIBA102_0\", \"FIBA103_0\",\n",
    "\"FIBA104_0\", \"FIBA105_0\", \"FIBA106_0\", \"FIBA101_1\", \"FIBA102_1\", \"FIBA103_1\", \"FIBA104_1\", \"FIBA105_1\", \"FIBA106_1\", \"FIBA101_2\",\n",
    "\"FIBA102_2\", \"FIBA103_2\", \"FIBA104_2\", \"FIBA105_2\", \"FIBA106_2\", \"FIBA101_3\", \"FIBA102_3\", \"FIBA103_3\", \"FIBA104_3\", \"FIBA105_3\",\n",
    "\"FIBA106_3\", \"FIBA101_4\", \"FIBA102_4\", \"FIBA103_4\", \"FIBA104_4\", \"FIBA105_4\", \"FIBA106_4\", \"FIBA101_5\", \"FIBA102_5\", \"FIBA103_5\",\n",
    "\"FIBA104_5\", \"FIBA105_5\", \"FIBA106_5\", \"FIBA101_6\", \"FIBA102_6\", \"FIBA103_6\", \"FIBA104_6\", \"FIBA105_6\", \"FIBA106_6\", \"FIBA101_7\",\n",
    "\"FIBA102_7\", \"FIBA103_7\", \"FIBA104_7\", \"FIBA105_7\", \"FIBA106_7\", \"FIBA101_8\", \"FIBA102_8\", \"FIBA103_8\", \"FIBA104_8\", \"FIBA105_8\",\n",
    "\"FIBA106_8\", \"FIBA101_9\", \"FIBA102_9\", \"FIBA103_9\", \"FIBA104_9\", \"FIBA105_9\", \"FIBA106_9\", \"FIBA101_10\", \"FIBA102_10\", \"FIBA103_10\",\n",
    "\"FIBA104_10\", \"FIBA105_10\", \"FIBA106_10\", \"FIBA101_11\", \"FIBA102_11\", \"FIBA103_11\", \"FIBA104_11\", \"FIBA105_11\", \"FIBA106_11\",\n",
    "\"FIBA101_12\", \"FIBA102_12\", \"FIBA103_12\", \"FIBA104_12\", \"FIBA105_12\", \"FIBA106_12\", \"FI09_1\", \"FIBA401_1\", \"FIBA402_1\", \"FIBA403_1\",\n",
    "\"FI09_2\", \"FIBA401_2\", \"FIBA402_2\", \"FIBA403_2\", \"FI09_3\", \"FIBA401_3\", \"FIBA402_3\", \"FIBA403_3\", \"FI09_4\", \"FIBA401_4\", \"FIBA402_4\",\n",
    "\"FIBA403_4\", \"FI09_5\", \"FIBA401_5\", \"FIBA402_5\", \"FIBA403_5\", \"FI09_6\", \"FIBA401_6\", \"FIBA402_6\", \"FIBA403_6\", \"FI09_7\", \"FIBA401_7\",\n",
    "\"FIBA402_7\", \"FIBA403_7\", \"FI09_8\", \"FIBA401_8\", \"FIBA402_8\", \"FIBA403_8\", \"FI09_9\", \"FIBA401_9\", \"FIBA402_9\", \"FIBA403_9\", \"FIBC201\",\n",
    "\"ISZAKV_VK\", \"FOGLALKKOD_1NE\", \"FOGLALKKOD_2NE\", \"FOGLALKKOD_3NE\", \"FOGLALKNEV_1NE\", \"FOGLALKNEV_2NE\", \"FOGLALKNEV_3NE\",\n",
    "\"FIBC220\" ]].values.tolist())"
   ]
  },
  {
   "cell_type": "code",
   "execution_count": 14,
   "id": "f9051013-915e-416b-b068-3125ed9f4970",
   "metadata": {},
   "outputs": [],
   "source": [
    "cur.execute(\"commit\")"
   ]
  },
  {
   "cell_type": "code",
   "execution_count": 14,
   "id": "09c1be25-caed-4293-9c72-a88ed4b161ff",
   "metadata": {},
   "outputs": [],
   "source": [
    "cur.close()"
   ]
  },
  {
   "cell_type": "code",
   "execution_count": null,
   "id": "33071473-45e6-4ee5-afb2-4fb687a3ac39",
   "metadata": {},
   "outputs": [],
   "source": []
  }
 ],
 "metadata": {
  "kernelspec": {
   "display_name": "Python 3 (ipykernel)",
   "language": "python",
   "name": "python3"
  },
  "language_info": {
   "codemirror_mode": {
    "name": "ipython",
    "version": 3
   },
   "file_extension": ".py",
   "mimetype": "text/x-python",
   "name": "python",
   "nbconvert_exporter": "python",
   "pygments_lexer": "ipython3",
   "version": "3.12.9"
  }
 },
 "nbformat": 4,
 "nbformat_minor": 5
}
